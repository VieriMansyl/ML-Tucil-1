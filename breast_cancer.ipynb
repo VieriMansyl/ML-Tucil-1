{
 "cells": [
  {
   "attachments": {},
   "cell_type": "markdown",
   "metadata": {},
   "source": [
    "# Tugas Kecil 1 Machine Learning\n",
    "## Eksplorasi library Algoritme Pembelajaran pada Jupyter Notebook\n",
    "\n",
    "13520092 - Vieri Mansyl  \n",
    "13520099 - Vincent Prasetiya Atmadja"
   ]
  },
  {
   "cell_type": "code",
   "execution_count": 92,
   "metadata": {},
   "outputs": [
    {
     "name": "stdout",
     "output_type": "stream",
     "text": [
      "30\n"
     ]
    }
   ],
   "source": [
    "from sklearn.datasets import load_breast_cancer\n",
    "from sklearn.model_selection import train_test_split\n",
    "import matplotlib.pyplot as plt\n",
    "import pickle\n",
    "\n",
    "# Load the breast cancer dataset\n",
    "cancer = load_breast_cancer()\n",
    "\n",
    "# Allocate training data 80% and test data 20%\n",
    "X_train, X_test, y_train, y_test = train_test_split(cancer.data, cancer.target, test_size=0.2, random_state=0)\n",
    "\n",
    "print(len(cancer.feature_names))"
   ]
  },
  {
   "attachments": {},
   "cell_type": "markdown",
   "metadata": {},
   "source": [
    "## Decision Tree Classifier"
   ]
  },
  {
   "cell_type": "code",
   "execution_count": null,
   "metadata": {},
   "outputs": [],
   "source": [
    "from sklearn.tree import DecisionTreeClassifier, export_text\n",
    "from sklearn.model_selection import cross_validate\n",
    "from sklearn.metrics import accuracy_score, precision_score, recall_score, f1_score, confusion_matrix\n",
    "\n",
    "# initialize DT classifier\n",
    "clf = DecisionTreeClassifier()\n",
    "\n",
    "# train the model\n",
    "clf.fit(X_train, y_train)\n",
    "\n",
    "# export the decision tree in text format\n",
    "r = export_text(clf, feature_names=cancer.feature_names.tolist())\n",
    "\n",
    "# show decision tree\n",
    "print(\"decision tree:\\n\", r)"
   ]
  },
  {
   "cell_type": "code",
   "execution_count": null,
   "metadata": {},
   "outputs": [],
   "source": [
    "# save model using pickle\n",
    "with open('models/decisionTreeClassifier.pkl', 'wb') as file:\n",
    "    pickle.dump(clf, file)\n",
    "\n",
    "#  load model using pickle\n",
    "with open('models/decisionTreeClassifier.pkl', 'rb') as file:\n",
    "    clf = pickle.load(file)\n",
    "\n",
    "# predict datasets with model\n",
    "predictions = clf.predict(X_test)\n",
    "\n",
    "# evaluate metrics\n",
    "dtAccuracy = accuracy_score(y_test, predictions)\n",
    "dtPrecision = precision_score(y_test, predictions)\n",
    "dtRecall = recall_score(y_test, predictions)\n",
    "dtF1 = f1_score(y_test, predictions)\n",
    "dtCm = confusion_matrix(y_test, predictions)\n",
    "\n",
    "# measure model's performance using 10-fold cross validation\n",
    "dtCv = cross_validate(clf, cancer.data, cancer.target, cv=10, scoring=['accuracy', 'f1'])\n"
   ]
  },
  {
   "attachments": {},
   "cell_type": "markdown",
   "metadata": {},
   "source": [
    "## ID3 Estimator"
   ]
  },
  {
   "cell_type": "code",
   "execution_count": null,
   "metadata": {},
   "outputs": [],
   "source": [
    "from id3 import Id3Estimator\n",
    "\n",
    "estimator = Id3Estimator()\n",
    "estimator = estimator.fit(X_train, y_train)\n",
    "\n",
    "with open('models/id3Estimator.pkl', 'wb') as file:\n",
    "    pickle.dump(estimator, file)\n",
    "\n",
    "#  load model using pickle\n",
    "with open('models/id3Estimator.pkl', 'rb') as file:\n",
    "    clf = pickle.load(file)\n",
    "\n",
    "estimatorPredictions = estimator.predict(X_test)\n",
    "\n",
    "# evaluate metrics\n",
    "id3Accuracy = accuracy_score(y_test, estimatorPredictions)\n",
    "id3Precision = precision_score(y_test, estimatorPredictions)\n",
    "id3Recall = recall_score(y_test, estimatorPredictions)\n",
    "id3F1 = f1_score(y_test, estimatorPredictions)\n",
    "id3Cm = confusion_matrix(y_test, estimatorPredictions)\n"
   ]
  },
  {
   "attachments": {},
   "cell_type": "markdown",
   "metadata": {},
   "source": [
    "## K Means"
   ]
  },
  {
   "cell_type": "code",
   "execution_count": null,
   "metadata": {},
   "outputs": [],
   "source": [
    "from sklearn.cluster import KMeans\n",
    "\n",
    "# initialize KMeans with 5 clusters with n_init=10\n",
    "kmeans = KMeans(n_clusters=2, n_init=10)\n",
    "\n",
    "# train the model\n",
    "kmeans.fit(X_train)\n",
    "\n",
    "# save model using pickle\n",
    "with open('models/kMeans.pkl', 'wb') as file:\n",
    "    pickle.dump(kmeans, file)\n",
    "\n",
    "#  load model using pickle\n",
    "with open('models/kMeans.pkl', 'rb') as file:\n",
    "    kmeans = pickle.load(file)\n",
    "\n",
    "# predict datasets with model\n",
    "predictions = kmeans.predict(X_test)\n",
    "\n",
    "\n",
    "print(\"prediction:\\n\" , predictions)"
   ]
  },
  {
   "attachments": {},
   "cell_type": "markdown",
   "metadata": {},
   "source": [
    "## Logistic Regression"
   ]
  },
  {
   "cell_type": "code",
   "execution_count": null,
   "metadata": {},
   "outputs": [],
   "source": [
    "from sklearn.linear_model import LogisticRegression\n",
    "\n",
    "# Initialize Logistic Regression\n",
    "\n",
    "lRegression = LogisticRegression(random_state=0, max_iter=3850)\n",
    "\n",
    "# Train Model\n",
    "lRegression.fit(X_train, y_train)\n",
    "\n",
    "# save model using pickle\n",
    "with open('models/logisticRegression.pkl', 'wb') as file:\n",
    "    pickle.dump(kmeans, file)\n",
    "\n",
    "#  load model using pickle\n",
    "with open('models/logisticRegression.pkl', 'rb') as file:\n",
    "    lRegression = pickle.load(file)\n",
    "\n",
    "estimatorPredictions = lRegression.predict(X_test)\n",
    "\n",
    "# evaluate metrics\n",
    "lrAccuracy = accuracy_score(y_test, estimatorPredictions)\n",
    "lrPrecision = precision_score(y_test, estimatorPredictions)\n",
    "lrRecall = recall_score(y_test, estimatorPredictions)\n",
    "lrF1 = f1_score(y_test, estimatorPredictions)\n",
    "lrCm = confusion_matrix(y_test, estimatorPredictions)\n"
   ]
  },
  {
   "attachments": {},
   "cell_type": "markdown",
   "metadata": {},
   "source": [
    "## Neural Network - Multi-layer Perceptron (MLP) Classifier"
   ]
  },
  {
   "cell_type": "code",
   "execution_count": null,
   "metadata": {},
   "outputs": [],
   "source": [
    "from sklearn.neural_network import MLPClassifier\n",
    "from sklearn.datasets import make_classification\n",
    "from sklearn.metrics import accuracy_score, precision_score, recall_score, f1_score, confusion_matrix\n",
    "\n",
    "# initialize MLP classifier\n",
    "clf = MLPClassifier(random_state=1, max_iter=300)\n",
    "\n",
    "# train the model\n",
    "clf.fit(X_train, y_train)\n",
    "\n",
    "# save model using pickle\n",
    "with open('models/mlpClassifier.pkl', 'wb') as file:\n",
    "    pickle.dump(clf, file)\n",
    "\n",
    "#  load model using pickle\n",
    "with open('models/mlpClassifier.pkl', 'rb') as file:\n",
    "    clf = pickle.load(file)\n",
    "\n",
    "# predict datasets with model\n",
    "predictions = clf.predict(X_test)\n",
    "\n",
    "# evaluate metrics\n",
    "mlpAccuracy = accuracy_score(y_test, predictions)\n",
    "mlpPrecision = precision_score(y_test, predictions)\n",
    "mlpRecall = recall_score(y_test, predictions)\n",
    "mlpF1 = f1_score(y_test, predictions)\n",
    "mlpCm = confusion_matrix(y_test, predictions)"
   ]
  },
  {
   "attachments": {},
   "cell_type": "markdown",
   "metadata": {},
   "source": [
    "## Support Vector Machine"
   ]
  },
  {
   "cell_type": "code",
   "execution_count": null,
   "metadata": {},
   "outputs": [],
   "source": [
    "from sklearn.svm import SVC\n",
    "from sklearn.preprocessing import StandardScaler\n",
    "from sklearn.pipeline import make_pipeline\n",
    "import numpy as np\n",
    "\n",
    "# initialize SVM classifier\n",
    "svm = make_pipeline(StandardScaler(), SVC(gamma='auto'))\n",
    "\n",
    "# Train data\n",
    "svm.fit(X_train, y_train)\n",
    "\n",
    "# save model using pickle\n",
    "with open('models/svmClassifier.pkl', 'wb') as file:\n",
    "    pickle.dump(svm, file)\n",
    "\n",
    "#  load model using pickle\n",
    "with open('models/svmClassifier.pkl', 'rb') as file:\n",
    "    svm = pickle.load(file)\n",
    "\n",
    "# predict datasets with model\n",
    "predictions = svm.predict(X_test)\n",
    "\n",
    "# evaluate metrics\n",
    "svmAccuracy = accuracy_score(y_test, predictions)\n",
    "svmPrecision = precision_score(y_test, predictions)\n",
    "svmRecall = recall_score(y_test, predictions)\n",
    "svmF1 = f1_score(y_test, predictions)\n",
    "svmCm = confusion_matrix(y_test, predictions)"
   ]
  },
  {
   "attachments": {},
   "cell_type": "markdown",
   "metadata": {},
   "source": [
    "## Evaluation Matrix"
   ]
  },
  {
   "attachments": {},
   "cell_type": "markdown",
   "metadata": {},
   "source": [
    "### Decision Tree\n"
   ]
  },
  {
   "cell_type": "code",
   "execution_count": 102,
   "metadata": {},
   "outputs": [
    {
     "name": "stdout",
     "output_type": "stream",
     "text": [
      "Accuracy:  0.9122807017543859\n",
      "Precision:  0.8701298701298701\n",
      "Recall:  1.0\n",
      "F1:  0.9305555555555556\n",
      "Confusion Matrix:\n",
      " [[37 10]\n",
      " [ 0 67]]\n",
      "Cross Validation Accuracy:  0.9280075187969924\n",
      "Cross Validation F1 0.9426659098997107\n"
     ]
    }
   ],
   "source": [
    "# show metrics\n",
    "print('Accuracy: ', dtAccuracy)\n",
    "print('Precision: ', dtPrecision)\n",
    "print('Recall: ', dtRecall)\n",
    "print('F1: ', dtF1)\n",
    "print('Confusion Matrix:\\n', dtCm)\n",
    "\n",
    "# show cross validation metrics\n",
    "print('Cross Validation Accuracy: ', dtCv['test_accuracy'].mean())\n",
    "print('Cross Validation F1', dtCv['test_f1'].mean())"
   ]
  },
  {
   "attachments": {},
   "cell_type": "markdown",
   "metadata": {},
   "source": [
    "### ID3 Estimator"
   ]
  },
  {
   "cell_type": "code",
   "execution_count": 86,
   "metadata": {},
   "outputs": [
    {
     "name": "stdout",
     "output_type": "stream",
     "text": [
      "Accuracy:  0.9122807017543859\n",
      "Precision:  0.9384615384615385\n",
      "Recall:  0.9104477611940298\n",
      "F1:  0.9242424242424243\n",
      "Confusion Matrix:\n",
      " [[43  4]\n",
      " [ 6 61]]\n"
     ]
    }
   ],
   "source": [
    "# show metrics\n",
    "print('Accuracy: ', id3Accuracy)\n",
    "print('Precision: ', id3Precision)\n",
    "print('Recall: ', id3Recall)\n",
    "print('F1: ', id3F1)\n",
    "print('Confusion Matrix:\\n', id3Cm)\n"
   ]
  },
  {
   "attachments": {},
   "cell_type": "markdown",
   "metadata": {},
   "source": [
    "### Logistic Regression"
   ]
  },
  {
   "cell_type": "code",
   "execution_count": 82,
   "metadata": {},
   "outputs": [
    {
     "name": "stdout",
     "output_type": "stream",
     "text": [
      "Accuracy:  0.8157894736842105\n",
      "Precision:  0.7613636363636364\n",
      "Recall:  1.0\n",
      "F1:  0.8645161290322582\n",
      "Confusion Matrix:\n",
      " [[26 21]\n",
      " [ 0 67]]\n"
     ]
    }
   ],
   "source": [
    "# show metrics\n",
    "print('Accuracy: ', lrAccuracy)\n",
    "print('Precision: ', lrPrecision)\n",
    "print('Recall: ', lrRecall)\n",
    "print('F1: ', lrF1)\n",
    "print('Confusion Matrix:\\n', lrCm)\n"
   ]
  },
  {
   "attachments": {},
   "cell_type": "markdown",
   "metadata": {},
   "source": [
    "### Neural Network"
   ]
  },
  {
   "cell_type": "code",
   "execution_count": 83,
   "metadata": {},
   "outputs": [
    {
     "name": "stdout",
     "output_type": "stream",
     "text": [
      "Accuracy:  0.9122807017543859\n",
      "Precision:  0.8701298701298701\n",
      "Recall:  1.0\n",
      "F1:  0.9305555555555556\n",
      "Confusion Matrix:\n",
      " [[37 10]\n",
      " [ 0 67]]\n"
     ]
    }
   ],
   "source": [
    "# show metrics\n",
    "print('Accuracy: ', mlpAccuracy)\n",
    "print('Precision: ', mlpPrecision)\n",
    "print('Recall: ', mlpRecall)\n",
    "print('F1: ', mlpF1)\n",
    "print('Confusion Matrix:\\n', mlpCm)\n"
   ]
  },
  {
   "attachments": {},
   "cell_type": "markdown",
   "metadata": {},
   "source": [
    "### SVM"
   ]
  },
  {
   "cell_type": "code",
   "execution_count": 84,
   "metadata": {},
   "outputs": [
    {
     "name": "stdout",
     "output_type": "stream",
     "text": [
      "Accuracy:  0.9824561403508771\n",
      "Precision:  0.9710144927536232\n",
      "Recall:  1.0\n",
      "F1:  0.9852941176470589\n",
      "Confusion Matrix:\n",
      " [[45  2]\n",
      " [ 0 67]]\n"
     ]
    }
   ],
   "source": [
    "# show metrics\n",
    "print('Accuracy: ', svmAccuracy)\n",
    "print('Precision: ', svmPrecision)\n",
    "print('Recall: ', svmRecall)\n",
    "print('F1: ', svmF1)\n",
    "print('Confusion Matrix:\\n', svmCm)\n"
   ]
  },
  {
   "attachments": {},
   "cell_type": "markdown",
   "metadata": {},
   "source": [
    "## <b>Analisis Evalution Matrix pada seluruh model pembelajaran</b>"
   ]
  },
  {
   "attachments": {},
   "cell_type": "markdown",
   "metadata": {},
   "source": [
    "Untuk <b>K-Means</b> :<br>\n",
    "Karena K-Means model merupakan model pembelajaran <strong>Unsupervised</strong>, maka hasil prediksi dari K-Means yang merupakan prediksi letak data terhadap cluster-cluster yang terbentuk tidak dapat diukur dengan metrik seperti accuracy, precision, recall, F1, dan confusion matrix yang digunakan hanya untuk mengukur model pembelajaran <strong>Supervised</strong>"
   ]
  },
  {
   "attachments": {},
   "cell_type": "markdown",
   "metadata": {},
   "source": [
    "Model pembelajaran lainnya: \n",
    "- Accuracy\n",
    "Model pembelajaran yang memiliki akurasi tertinggi ialah model <strong>SVM</strong> dengan akurasi 98.246%.<br>\n",
    "\n",
    "- Precision\n",
    "Model pembelajaran yang memiliki presisi tertinggi ialah model <strong>SVM</strong> dengan presisi sebesar 97.10%.\n",
    "\n",
    "- Recall\n",
    "Nilai Recall tertinggi yang didapatkan adalah 1.0, yang mana didapatkan oleh model pembelajaran <strong> Decision Tree </strong>, <strong> Logistic Regression </strong>, dan <strong> Neural Network </strong>\n",
    "\n",
    "- F1\n",
    "Model pembelajaran yang memiliki F1 tertinggi ialah model <strong>SVM</strong> nilai F1 sebesar 98.52%"
   ]
  },
  {
   "attachments": {},
   "cell_type": "markdown",
   "metadata": {},
   "source": [
    "### <b> Kesimpulan </b>\n",
    "\n",
    "Dari analisis terhadap perfoma matriks yang ada, <strong> SVM </strong> merupakan model pembelajaran yang terbaik. \n",
    "<strong>SVM</strong> cocok digunakan untuk data dengan atribut yang banyak. Dalam kasus ini, Breast Cancer memilki 30 atribut yang mana cocok dengan <i> use-case </i> dari SVM.  \n",
    "Selain itu, Breast Cancer memilki 2 label saja, yang mana cocok dengan algoritma dari SVM\n"
   ]
  },
  {
   "attachments": {},
   "cell_type": "markdown",
   "metadata": {},
   "source": [
    "## <b>Perbandingan 10-Fold Cross Validation pada Decision Tree Classifier dengan hasil analisis</b>\n",
    "\n",
    "Hasil cross validation pada DTF untuk metrik <i>accuracy</i> dan <i>F1</i>  berturut-turut adalah 0.9280075187969924 dan 0.9426659098997107.\n",
    "\n",
    "Walaupun begitu, nilai cross validation dari DTF masih lebih kecil dibanding dengan hasil metrik dari SVM. Ini menunjukkan bahwa pada dataset <i>breast cancer</i>, model SVM masih lebih baik dibanding model DTF."
   ]
  }
 ],
 "metadata": {
  "kernelspec": {
   "display_name": "Python 3",
   "language": "python",
   "name": "python3"
  },
  "language_info": {
   "codemirror_mode": {
    "name": "ipython",
    "version": 3
   },
   "file_extension": ".py",
   "mimetype": "text/x-python",
   "name": "python",
   "nbconvert_exporter": "python",
   "pygments_lexer": "ipython3",
   "version": "3.10.1"
  },
  "orig_nbformat": 4,
  "vscode": {
   "interpreter": {
    "hash": "369f2c481f4da34e4445cda3fffd2e751bd1c4d706f27375911949ba6bb62e1c"
   }
  }
 },
 "nbformat": 4,
 "nbformat_minor": 2
}
