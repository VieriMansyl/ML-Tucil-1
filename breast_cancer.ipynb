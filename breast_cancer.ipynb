{
 "cells": [
  {
   "cell_type": "code",
   "execution_count": 41,
   "metadata": {},
   "outputs": [],
   "source": [
    "from sklearn.datasets import load_breast_cancer\n",
    "from sklearn.model_selection import train_test_split\n",
    "import matplotlib.pyplot as plt\n",
    "import pickle\n",
    "\n",
    "# Load the breast cancer dataset\n",
    "cancer = load_breast_cancer()\n",
    "\n",
    "# Allocate training data 80% and test data 20%\n",
    "X_train, X_test, y_train, y_test = train_test_split(cancer.data, cancer.target, test_size=0.2, random_state=0)"
   ]
  },
  {
   "attachments": {},
   "cell_type": "markdown",
   "metadata": {},
   "source": [
    "## Decision Tree Classifier"
   ]
  },
  {
   "cell_type": "code",
   "execution_count": 42,
   "metadata": {},
   "outputs": [
    {
     "name": "stdout",
     "output_type": "stream",
     "text": [
      "Accuracy:  0.9035087719298246\n",
      "Precision:  0.9516129032258065\n",
      "Recall:  0.8805970149253731\n",
      "F1:  0.9147286821705426\n",
      "Confusion Matrix:\n",
      " [[44  3]\n",
      " [ 8 59]]\n",
      "Cross Validation Accuracy:\n",
      " [0.89473684 0.85964912 0.9122807  0.84210526 0.94736842 0.89473684\n",
      " 0.84210526 0.94736842 0.9122807  0.94642857]\n",
      "Cross Validation F1:\n",
      " [0.91428571 0.88888889 0.93150685 0.87323944 0.95890411 0.91666667\n",
      " 0.87671233 0.95774648 0.92537313 0.95522388]\n"
     ]
    }
   ],
   "source": [
    "from sklearn.tree import DecisionTreeClassifier, export_text\n",
    "from sklearn.model_selection import cross_validate\n",
    "from sklearn.metrics import accuracy_score, precision_score, recall_score, f1_score, confusion_matrix\n",
    "\n",
    "# initialize DT classifier\n",
    "clf = DecisionTreeClassifier()\n",
    "\n",
    "# train the model\n",
    "clf.fit(X_train, y_train)\n",
    "\n",
    "# export the decision tree in text format\n",
    "r = export_text(clf, feature_names=cancer.feature_names.tolist())\n",
    "\n",
    "# show decision tree\n",
    "# print(r)\n",
    "\n",
    "# save model using pickle\n",
    "with open('models/decisionTreeClassifier.pkl', 'wb') as file:\n",
    "    pickle.dump(clf, file)\n",
    "\n",
    "# predict datasets with model\n",
    "predictions = clf.predict(X_test)\n",
    "\n",
    "# evaluate metrics\n",
    "accuracy = accuracy_score(y_test, predictions)\n",
    "precision = precision_score(y_test, predictions)\n",
    "recall = recall_score(y_test, predictions)\n",
    "f1 = f1_score(y_test, predictions)\n",
    "cm = confusion_matrix(y_test, predictions)\n",
    "\n",
    "# measure model's performance using 10-fold cross validation\n",
    "cv = cross_validate(clf, cancer.data, cancer.target, cv=10, scoring=['accuracy', 'f1'])\n",
    "\n",
    "# show metrics\n",
    "print('Accuracy: ', accuracy)\n",
    "print('Precision: ', precision)\n",
    "print('Recall: ', recall)\n",
    "print('F1: ', f1)\n",
    "print('Confusion Matrix:\\n', cm)\n",
    "\n",
    "# show cross validation metrics\n",
    "print('Cross Validation Accuracy:\\n', cv['test_accuracy'])\n",
    "print('Cross Validation F1:\\n', cv['test_f1'])"
   ]
  },
  {
   "attachments": {},
   "cell_type": "markdown",
   "metadata": {},
   "source": [
    "## ID3 Estimator"
   ]
  },
  {
   "cell_type": "code",
   "execution_count": null,
   "metadata": {},
   "outputs": [],
   "source": [
    "from id3 import Id3Estimator, export_graphviz\n",
    "import numpy as np\n"
   ]
  },
  {
   "attachments": {},
   "cell_type": "markdown",
   "metadata": {},
   "source": [
    "## K Means"
   ]
  },
  {
   "cell_type": "code",
   "execution_count": null,
   "metadata": {},
   "outputs": [],
   "source": [
    "from sklearn.cluster import KMeans\n",
    "import numpy as np"
   ]
  },
  {
   "attachments": {},
   "cell_type": "markdown",
   "metadata": {},
   "source": [
    "## Logistic Regression"
   ]
  },
  {
   "cell_type": "code",
   "execution_count": null,
   "metadata": {},
   "outputs": [],
   "source": [
    "from sklearn.linear_model import LogisticRegression"
   ]
  },
  {
   "attachments": {},
   "cell_type": "markdown",
   "metadata": {},
   "source": [
    "## Neural Network - Multi-layer Perceptron (MLP) Classifier"
   ]
  },
  {
   "cell_type": "code",
   "execution_count": null,
   "metadata": {},
   "outputs": [],
   "source": [
    "from sklearn.neural_network import MLPClassifier\n",
    "from sklearn.datasets import make_classification"
   ]
  },
  {
   "attachments": {},
   "cell_type": "markdown",
   "metadata": {},
   "source": [
    "## Support Vector Machine"
   ]
  },
  {
   "cell_type": "code",
   "execution_count": null,
   "metadata": {},
   "outputs": [],
   "source": [
    "from sklearn.svm import SVC\n",
    "from sklearn.preprocessing import StandardScaler\n",
    "from sklearn.pipeline import make_pipeline\n",
    "import numpy as np"
   ]
  },
  {
   "cell_type": "code",
   "execution_count": 2,
   "metadata": {},
   "outputs": [
    {
     "name": "stdout",
     "output_type": "stream",
     "text": [
      "X_train:\n",
      " [[60.    1.6 ]\n",
      " [65.    1.7 ]\n",
      " [80.    1.9 ]\n",
      " [75.    1.85]]\n",
      "X_test:\n",
      " [[70.   1.8]\n",
      " [50.   1.4]\n",
      " [55.   1.5]]\n",
      "y_train:\n",
      " [0. 1. 1. 1.]\n",
      "y_test:\n",
      " [1. 0. 0.]\n"
     ]
    }
   ],
   "source": [
    "from sklearn.model_selection import train_test_split\n",
    "import numpy as np\n",
    "\n",
    "# Load the dataset\n",
    "data = np.array([[60, 1.6, 0], [55, 1.5, 0], [65, 1.7, 1], [70, 1.8, 1], [80, 1.9, 1], [50, 1.4, 0], [75, 1.85, 1]])\n",
    "\n",
    "# Split the data into input (X) and output (y) variables\n",
    "X = data[:, :2]\n",
    "y = data[:, 2]\n",
    "\n",
    "# Split the data into training and testing sets\n",
    "X_train, X_test, y_train, y_test = train_test_split(X, y, test_size=0.3)\n",
    "\n",
    "print(\"X_train:\\n\", X_train)\n",
    "print(\"X_test:\\n\", X_test)\n",
    "print(\"y_train:\\n\", y_train)\n",
    "print(\"y_test:\\n\", y_test)\n"
   ]
  }
 ],
 "metadata": {
  "kernelspec": {
   "display_name": "Python 3",
   "language": "python",
   "name": "python3"
  },
  "language_info": {
   "codemirror_mode": {
    "name": "ipython",
    "version": 3
   },
   "file_extension": ".py",
   "mimetype": "text/x-python",
   "name": "python",
   "nbconvert_exporter": "python",
   "pygments_lexer": "ipython3",
   "version": "3.11.1"
  },
  "orig_nbformat": 4,
  "vscode": {
   "interpreter": {
    "hash": "c0be323afe9d07a94ba04cb788bc101868fc6fddb09804aaa7221b01322140dd"
   }
  }
 },
 "nbformat": 4,
 "nbformat_minor": 2
}
